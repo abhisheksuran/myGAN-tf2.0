{
  "nbformat": 4,
  "nbformat_minor": 0,
  "metadata": {
    "colab": {
      "name": "mnistConditionalGAN.ipynb",
      "provenance": [],
      "collapsed_sections": [],
      "authorship_tag": "ABX9TyOyvjHk2NF+eJrQGG/USRWN",
      "include_colab_link": true
    },
    "kernelspec": {
      "name": "python3",
      "display_name": "Python 3"
    },
    "accelerator": "GPU"
  },
  "cells": [
    {
      "cell_type": "markdown",
      "metadata": {
        "id": "view-in-github",
        "colab_type": "text"
      },
      "source": [
        "<a href=\"https://colab.research.google.com/github/abhisheksuran/myGAN-tf2.0/blob/master/mnistConditionalGAN.ipynb\" target=\"_parent\"><img src=\"https://colab.research.google.com/assets/colab-badge.svg\" alt=\"Open In Colab\"/></a>"
      ]
    },
    {
      "cell_type": "code",
      "metadata": {
        "id": "A5fGsGNx59rt"
      },
      "source": [
        "import tensorflow as tf\n",
        "import numpy as np"
      ],
      "execution_count": 1,
      "outputs": []
    },
    {
      "cell_type": "code",
      "metadata": {
        "id": "78y_aQZ7Bqs6"
      },
      "source": [
        "import glob\n",
        "from tqdm import tqdm\n",
        "import matplotlib.pyplot as plt\n",
        "import numpy as np\n",
        "import os\n",
        "import PIL\n",
        "from tensorflow.keras import layers\n",
        "import time\n",
        "\n",
        "from IPython import display"
      ],
      "execution_count": 2,
      "outputs": []
    },
    {
      "cell_type": "code",
      "metadata": {
        "id": "KemoOfmn7gd9",
        "outputId": "294438ad-db33-4bb2-f70f-eff5190a2757",
        "colab": {
          "base_uri": "https://localhost:8080/",
          "height": 50
        }
      },
      "source": [
        "(train_images, train_labels), (_, _) = tf.keras.datasets.mnist.load_data()\n",
        "train_labels = tf.one_hot(train_labels, depth=10)"
      ],
      "execution_count": 3,
      "outputs": [
        {
          "output_type": "stream",
          "text": [
            "Downloading data from https://storage.googleapis.com/tensorflow/tf-keras-datasets/mnist.npz\n",
            "11493376/11490434 [==============================] - 0s 0us/step\n"
          ],
          "name": "stdout"
        }
      ]
    },
    {
      "cell_type": "code",
      "metadata": {
        "id": "CCZM-RKJ7hxC"
      },
      "source": [
        "train_images = train_images.reshape(train_images.shape[0], 28, 28).astype('float32')\n",
        "train_images = (train_images - 127.5) / 127.5 # Normalize the images to [-1, 1]\n",
        "BUFFER_SIZE = 60000\n",
        "BATCH_SIZE = 256\n",
        "# Batch and shuffle the data\n",
        "#image_dataset = tf.data.Dataset.from_tensor_slices(train_images).batch(BATCH_SIZE)\n",
        "#label_dataset = tf.data.Dataset.from_tensor_slices(train_labels).batch(BATCH_SIZE)"
      ],
      "execution_count": 4,
      "outputs": []
    },
    {
      "cell_type": "code",
      "metadata": {
        "id": "duT-mIU_73v6",
        "outputId": "f71b3c1d-cee2-4e3a-accf-3f3d5e50a182",
        "colab": {
          "base_uri": "https://localhost:8080/",
          "height": 34
        }
      },
      "source": [
        "train_labels[1]"
      ],
      "execution_count": 5,
      "outputs": [
        {
          "output_type": "execute_result",
          "data": {
            "text/plain": [
              "<tf.Tensor: shape=(10,), dtype=float32, numpy=array([1., 0., 0., 0., 0., 0., 0., 0., 0., 0.], dtype=float32)>"
            ]
          },
          "metadata": {
            "tags": []
          },
          "execution_count": 5
        }
      ]
    },
    {
      "cell_type": "code",
      "metadata": {
        "id": "iEo6ERZg0zeN",
        "outputId": "b57d0338-eac5-4a08-9ca6-8772a34bc638",
        "colab": {
          "base_uri": "https://localhost:8080/",
          "height": 50
        }
      },
      "source": [
        "def add_channels(train_images, train_labels):\n",
        "  all_images =[]\n",
        "  for im, label in tqdm(zip(train_images, train_labels)):\n",
        "    image = tf.constant(im, dtype=tf.float32)\n",
        "    a = tf.repeat(label, repeats=[784,784,784,784,784,784,784,784,784,784])\n",
        "    b = tf.reshape(a, [10,28,28])\n",
        "    #b = tf.cast(b, dtype=tf.int32)\n",
        "    #k = tf.reshape(b[1], [28,28,1])\n",
        "    #print(np.shape(b[1]))\n",
        "    #print(np.shape(image))\n",
        "    #print( np.stack([image, b[1]], axis=2))\n",
        "    #print(image)\n",
        "    bs = []\n",
        "    for i in range(10):\n",
        "      bs.append(b[i])\n",
        "    image = tf.stack([image, *bs], axis=2)\n",
        "    #print(np.shape(image))\n",
        "    all_images.append(image)\n",
        "  return all_images\n",
        "\n",
        "dataset = add_channels(train_images, train_labels)\n",
        "print(tf.shape(dataset[1]))\n",
        "dataset = tf.data.Dataset.from_tensor_slices(dataset).batch(BATCH_SIZE)\n",
        "label_dataset = tf.data.Dataset.from_tensor_slices(train_labels).batch(BATCH_SIZE)"
      ],
      "execution_count": 6,
      "outputs": [
        {
          "output_type": "stream",
          "text": [
            "60000it [04:29, 222.36it/s]\n"
          ],
          "name": "stderr"
        },
        {
          "output_type": "stream",
          "text": [
            "tf.Tensor([28 28 11], shape=(3,), dtype=int32)\n"
          ],
          "name": "stdout"
        }
      ]
    },
    {
      "cell_type": "code",
      "metadata": {
        "id": "eyiVqdHbv0vv"
      },
      "source": [
        "def combine(x,y):\n",
        "  combined = tf.concat([x, y], axis=1)\n",
        "  return combined\n",
        "\n",
        "z_dim = 64\n",
        "image_shape = (28, 28, 1)\n",
        "n_classes = 10\n",
        "\n",
        "def get_input_dimensions(z_dim, image_shape, n_classes):\n",
        "    '''\n",
        "    Function for getting the size of the conditional input dimensions \n",
        "    from z_dim, the image shape, and number of classes.\n",
        "    Parameters:\n",
        "        z_dim: the dimension of the noise vector, a scalar\n",
        "        mnist_shape: the shape of each MNIST image as (C, W, H), which is (1, 28, 28)\n",
        "        n_classes: the total number of classes in the dataset, an integer scalar\n",
        "                (10 for MNIST)\n",
        "    Returns: \n",
        "        generator_input_dim: the input dimensionality of the conditional generator, \n",
        "                          which takes the noise and class vectors\n",
        "        discriminator_im_chan: the number of input channels to the discriminator\n",
        "                            (e.g. C x 28 x 28 for MNIST)\n",
        "    '''\n",
        "  \n",
        "    generator_input_dim = z_dim + n_classes\n",
        "    discriminator_im_chan = image_shape[2] + n_classes\n",
        "    return generator_input_dim, discriminator_im_chan\n",
        "\n",
        "\n",
        "generator_input_dim, discriminator_im_chan = get_input_dimensions(z_dim, image_shape, n_classes)\n"
      ],
      "execution_count": 7,
      "outputs": []
    },
    {
      "cell_type": "code",
      "metadata": {
        "id": "UrZmpIkwBQiM"
      },
      "source": [
        "def make_generator_model(input_dim):\n",
        "    model = tf.keras.Sequential()\n",
        "    model.add(tf.keras.layers.Dense(7*7*256, use_bias=False, input_shape=(input_dim,)))\n",
        "    model.add(tf.keras.layers.BatchNormalization())\n",
        "    model.add(tf.keras.layers.LeakyReLU())\n",
        "\n",
        "    model.add(tf.keras.layers.Reshape((7, 7, 256)))\n",
        "    assert model.output_shape == (None, 7, 7, 256) # Note: None is the batch size\n",
        "\n",
        "    model.add(tf.keras.layers.Conv2DTranspose(128, (5, 5), strides=(1, 1), padding='same', use_bias=False))\n",
        "    assert model.output_shape == (None, 7, 7, 128)\n",
        "    model.add(tf.keras.layers.BatchNormalization())\n",
        "    model.add(tf.keras.layers.LeakyReLU())\n",
        "\n",
        "    model.add(tf.keras.layers.Conv2DTranspose(64, (5, 5), strides=(2, 2), padding='same', use_bias=False))\n",
        "    assert model.output_shape == (None, 14, 14, 64)\n",
        "    model.add(tf.keras.layers.BatchNormalization())\n",
        "    model.add(tf.keras.layers.LeakyReLU())\n",
        "\n",
        "    model.add(tf.keras.layers.Conv2DTranspose(1, (5, 5), strides=(2, 2), padding='same', use_bias=False, activation='tanh'))\n",
        "    assert model.output_shape == (None, 28, 28, 1)\n",
        "\n",
        "    return model"
      ],
      "execution_count": 8,
      "outputs": []
    },
    {
      "cell_type": "code",
      "metadata": {
        "id": "3uAXmGgBBR1G",
        "outputId": "e43f3fca-8a87-496e-d5bd-1e357647cb66",
        "colab": {
          "base_uri": "https://localhost:8080/",
          "height": 282
        }
      },
      "source": [
        "generator = make_generator_model(generator_input_dim)\n",
        "\n",
        "noise = tf.random.normal([1, generator_input_dim])\n",
        "generated_image = generator(noise, training=False)\n",
        "\n",
        "plt.imshow(generated_image[0, :, :, 0], cmap='gray')\n"
      ],
      "execution_count": 9,
      "outputs": [
        {
          "output_type": "execute_result",
          "data": {
            "text/plain": [
              "<matplotlib.image.AxesImage at 0x7fb5a879ef98>"
            ]
          },
          "metadata": {
            "tags": []
          },
          "execution_count": 9
        },
        {
          "output_type": "display_data",
          "data": {
            "image/png": "[encoded data removed]",
            "text/plain": [
              "<Figure size 432x288 with 1 Axes>"
            ]
          },
          "metadata": {
            "tags": [],
            "needs_background": "light"
          }
        }
      ]
    },
    {
      "cell_type": "code",
      "metadata": {
        "id": "ePjmEmCWE9-A"
      },
      "source": [
        "def make_discriminator_model(input_channels):\n",
        "    model = tf.keras.Sequential()\n",
        "    model.add(layers.Conv2D(64, (5, 5), strides=(2, 2), padding='same',\n",
        "                                     input_shape=[28, 28, input_channels]))\n",
        "    model.add(layers.LeakyReLU())\n",
        "    model.add(layers.Dropout(0.3))\n",
        "\n",
        "    model.add(layers.Conv2D(128, (5, 5), strides=(2, 2), padding='same'))\n",
        "    model.add(layers.LeakyReLU())\n",
        "    model.add(layers.Dropout(0.3))\n",
        "\n",
        "    model.add(layers.Flatten())\n",
        "    model.add(layers.Dense(1))\n",
        "\n",
        "    return model"
      ],
      "execution_count": 10,
      "outputs": []
    },
    {
      "cell_type": "code",
      "metadata": {
        "id": "uebvHVRRBU_s"
      },
      "source": [
        "discriminator = make_discriminator_model(discriminator_im_chan)\n",
        "#decision = discriminator(generated_image)\n",
        "#print (decision)"
      ],
      "execution_count": 11,
      "outputs": []
    },
    {
      "cell_type": "code",
      "metadata": {
        "id": "f7nZ-FyKFBIz"
      },
      "source": [
        "# This method returns a helper function to compute cross entropy loss\n",
        "cross_entropy = tf.keras.losses.BinaryCrossentropy(from_logits=True)\n"
      ],
      "execution_count": 12,
      "outputs": []
    },
    {
      "cell_type": "code",
      "metadata": {
        "id": "1pmo3XKEFGBY"
      },
      "source": [
        "def discriminator_loss(real_output, fake_output):\n",
        "    real_loss = cross_entropy(tf.ones_like(real_output), real_output)\n",
        "    fake_loss = cross_entropy(tf.zeros_like(fake_output), fake_output)\n",
        "    total_loss = real_loss + fake_loss\n",
        "    return total_loss"
      ],
      "execution_count": 13,
      "outputs": []
    },
    {
      "cell_type": "code",
      "metadata": {
        "id": "2Aq5XV5qFIuI"
      },
      "source": [
        "def generator_loss(fake_output):\n",
        "    return cross_entropy(tf.ones_like(fake_output), fake_output)\n"
      ],
      "execution_count": 14,
      "outputs": []
    },
    {
      "cell_type": "code",
      "metadata": {
        "id": "YBsscCuMFLJU"
      },
      "source": [
        "generator_optimizer = tf.keras.optimizers.Adam(1e-4)\n",
        "discriminator_optimizer = tf.keras.optimizers.Adam(1e-4)\n"
      ],
      "execution_count": 15,
      "outputs": []
    },
    {
      "cell_type": "code",
      "metadata": {
        "id": "GkCXLqNYFNUb"
      },
      "source": [
        "checkpoint_dir = './training_checkpoints'\n",
        "checkpoint_prefix = os.path.join(checkpoint_dir, \"ckpt\")\n",
        "checkpoint = tf.train.Checkpoint(generator_optimizer=generator_optimizer,\n",
        "                                 discriminator_optimizer=discriminator_optimizer,\n",
        "                                 generator=generator,\n",
        "                                 discriminator=discriminator)\n"
      ],
      "execution_count": 16,
      "outputs": []
    },
    {
      "cell_type": "code",
      "metadata": {
        "id": "VFAZ3Xb5FQF_",
        "outputId": "ccfd588d-5e71-44dc-a8a0-3b82013e5004",
        "colab": {
          "base_uri": "https://localhost:8080/",
          "height": 319
        }
      },
      "source": [
        "EPOCHS = 50\n",
        "\n",
        "num_examples_to_generate = 16\n",
        "\n",
        "# We will reuse this seed overtime (so it's easier)\n",
        "# to visualize progress in the animated GIF)\n",
        "seed = tf.random.normal([num_examples_to_generate, z_dim])\n",
        "lab = []\n",
        "for i in range(num_examples_to_generate):\n",
        "  onehotlabel = tf.constant([0.0,1.0,0.0,0.0,0.0,0.0,0.0,0.0,0.0,0.0])\n",
        "  lab.append(onehotlabel)\n",
        "\n",
        "ohlab = tf.stack(lab)\n",
        "print(ohlab)\n",
        "onehotlabel = tf.reshape(onehotlabel, (1,10))\n",
        "seed = combine(seed, ohlab)\n",
        "print(tf.shape(seed))"
      ],
      "execution_count": 19,
      "outputs": [
        {
          "output_type": "stream",
          "text": [
            "tf.Tensor(\n",
            "[[0. 1. 0. 0. 0. 0. 0. 0. 0. 0.]\n",
            " [0. 1. 0. 0. 0. 0. 0. 0. 0. 0.]\n",
            " [0. 1. 0. 0. 0. 0. 0. 0. 0. 0.]\n",
            " [0. 1. 0. 0. 0. 0. 0. 0. 0. 0.]\n",
            " [0. 1. 0. 0. 0. 0. 0. 0. 0. 0.]\n",
            " [0. 1. 0. 0. 0. 0. 0. 0. 0. 0.]\n",
            " [0. 1. 0. 0. 0. 0. 0. 0. 0. 0.]\n",
            " [0. 1. 0. 0. 0. 0. 0. 0. 0. 0.]\n",
            " [0. 1. 0. 0. 0. 0. 0. 0. 0. 0.]\n",
            " [0. 1. 0. 0. 0. 0. 0. 0. 0. 0.]\n",
            " [0. 1. 0. 0. 0. 0. 0. 0. 0. 0.]\n",
            " [0. 1. 0. 0. 0. 0. 0. 0. 0. 0.]\n",
            " [0. 1. 0. 0. 0. 0. 0. 0. 0. 0.]\n",
            " [0. 1. 0. 0. 0. 0. 0. 0. 0. 0.]\n",
            " [0. 1. 0. 0. 0. 0. 0. 0. 0. 0.]\n",
            " [0. 1. 0. 0. 0. 0. 0. 0. 0. 0.]], shape=(16, 10), dtype=float32)\n",
            "tf.Tensor([16 74], shape=(2,), dtype=int32)\n"
          ],
          "name": "stdout"
        }
      ]
    },
    {
      "cell_type": "code",
      "metadata": {
        "id": "h4j9vFItybuU"
      },
      "source": [
        "# def channels(image, labels):\n",
        "#   a = tf.repeat([0,1,0,0,0,0,0,0,0,0], repeats=[784,784,784,784,784,784,784,784,784,784]).numpy()\n",
        "#   b = tf.reshape(a, [10,28,28])\n",
        "#   for i in range(10):\n",
        "#     image = tf.stack(image, b[i])\n"
      ],
      "execution_count": null,
      "outputs": []
    },
    {
      "cell_type": "code",
      "metadata": {
        "id": "0OtB_-BRggNt"
      },
      "source": [
        "def generate_and_save_images(model, epoch, test_input):\n",
        "  # Notice `training` is set to False.\n",
        "  # This is so all layers run in inference mode (batchnorm).\n",
        "  predictions = model(test_input, training=False)\n",
        "\n",
        "  fig = plt.figure(figsize=(4,4))\n",
        "\n",
        "  for i in range(predictions.shape[0]):\n",
        "      plt.subplot(4, 4, i+1)\n",
        "      plt.imshow(predictions[i, :, :, 0] * 127.5 + 127.5, cmap='gray')\n",
        "      plt.axis('off')\n",
        "\n",
        "  plt.savefig('image_at_epoch_{:04d}.png'.format(epoch))\n",
        "  plt.show()\n"
      ],
      "execution_count": 22,
      "outputs": []
    },
    {
      "cell_type": "code",
      "metadata": {
        "id": "kuFR3dF6FZNW",
        "outputId": "ace0c501-358e-46a8-8cb2-4136be264268",
        "colab": {
          "base_uri": "https://localhost:8080/",
          "height": 1000
        }
      },
      "source": [
        "#def train(image_dataset, label_dataset, epochs):\n",
        "\n",
        "\n",
        "for epoch in range(EPOCHS):\n",
        "  start = time.time()\n",
        "\n",
        "  for image_batch, label_batch in zip(dataset, label_dataset):\n",
        "    # train_step(image_batch, label_batch)\n",
        "    if len(image_batch) == BATCH_SIZE:\n",
        "      noise = tf.random.normal([BATCH_SIZE, z_dim])\n",
        "      \n",
        "      with tf.GradientTape() as gen_tape, tf.GradientTape() as disc_tape:\n",
        "\n",
        "        #image_labels = tf.tile(label_batch, tf.constant([28,28]))\n",
        "        #image_labels = tf.reshape(image_labels, (256,28,28,10))\n",
        "        noiseandlabels = combine(noise,label_batch)\n",
        "        generated_images = generator(noiseandlabels, training=True)\n",
        "        generated_images = tf.squeeze(generated_images)\n",
        "        #print(np.shape(generated_images))\n",
        "        #print(np.shape(label_batch))\n",
        "        fake_image_and_labels = add_channels(generated_images, label_batch)\n",
        "        fake_image_and_labels = tf.stack(fake_image_and_labels)\n",
        "\n",
        "        real_output = discriminator(image_batch, training=True)\n",
        "        fake_output = discriminator(fake_image_and_labels, training=True)\n",
        "\n",
        "        gen_loss = generator_loss(fake_output)\n",
        "        disc_loss = discriminator_loss(real_output, fake_output)\n",
        "\n",
        "      gradients_of_generator = gen_tape.gradient(gen_loss, generator.trainable_variables)\n",
        "      gradients_of_discriminator = disc_tape.gradient(disc_loss, discriminator.trainable_variables)\n",
        "\n",
        "      generator_optimizer.apply_gradients(zip(gradients_of_generator, generator.trainable_variables))\n",
        "      discriminator_optimizer.apply_gradients(zip(gradients_of_discriminator, discriminator.trainable_variables))\n",
        "\n",
        "\n",
        "  # Produce images for the GIF as we go\n",
        "  display.clear_output(wait=True)\n",
        "  generate_and_save_images(generator,\n",
        "                            epoch + 1,\n",
        "                            seed)\n",
        "\n",
        "  # Save the model every 15 epochs\n",
        "  if (epoch + 1) % 15 == 0:\n",
        "    checkpoint.save(file_prefix = checkpoint_prefix)\n",
        "\n",
        "  print ('Time for epoch {} is {} sec'.format(epoch + 1, time.time()-start))\n",
        "\n",
        "# Generate after the final epoch\n",
        "display.clear_output(wait=True)\n",
        "generate_and_save_images(generator,epochs,seed)\n"
      ],
      "execution_count": null,
      "outputs": [
        {
          "output_type": "display_data",
          "data": {
            "image/png": "[encoded data removed]",
            "text/plain": [
              "<Figure size 288x288 with 16 Axes>"
            ]
          },
          "metadata": {
            "tags": [],
            "needs_background": "light"
          }
        },
        {
          "output_type": "stream",
          "text": [
            "Time for epoch 16 is 326.6072618961334 sec\n"
          ],
          "name": "stdout"
        },
        {
          "output_type": "stream",
          "text": [
            "256it [00:01, 196.81it/s]\n",
            "256it [00:01, 229.50it/s]\n",
            "256it [00:01, 221.29it/s]\n",
            "256it [00:01, 222.49it/s]\n",
            "256it [00:01, 225.69it/s]\n",
            "256it [00:01, 222.96it/s]\n",
            "256it [00:01, 220.14it/s]\n",
            "256it [00:01, 226.58it/s]\n",
            "256it [00:01, 221.87it/s]\n",
            "256it [00:01, 218.79it/s]\n",
            "256it [00:01, 201.67it/s]\n",
            "256it [00:01, 216.33it/s]\n",
            "256it [00:01, 212.24it/s]\n",
            "256it [00:01, 223.58it/s]\n",
            "256it [00:01, 220.83it/s]\n",
            "256it [00:01, 218.58it/s]\n",
            "256it [00:01, 207.74it/s]\n",
            "256it [00:01, 224.29it/s]\n",
            "256it [00:01, 213.82it/s]\n",
            "256it [00:01, 224.09it/s]\n",
            "256it [00:01, 207.42it/s]\n",
            "256it [00:01, 204.71it/s]\n",
            "256it [00:01, 202.60it/s]\n",
            "256it [00:01, 226.85it/s]\n",
            "256it [00:01, 223.92it/s]\n",
            "256it [00:01, 206.26it/s]\n",
            "256it [00:01, 223.04it/s]\n",
            "256it [00:01, 219.16it/s]\n",
            "256it [00:01, 218.19it/s]\n",
            "256it [00:01, 231.32it/s]\n",
            "256it [00:01, 224.25it/s]\n",
            "256it [00:01, 215.59it/s]\n",
            "256it [00:01, 219.00it/s]\n",
            "256it [00:01, 211.86it/s]\n",
            "256it [00:01, 221.26it/s]\n",
            "256it [00:01, 221.05it/s]\n",
            "256it [00:01, 220.74it/s]\n",
            "256it [00:01, 219.96it/s]\n",
            "256it [00:01, 214.23it/s]\n",
            "256it [00:01, 220.23it/s]\n",
            "256it [00:01, 206.44it/s]\n",
            "256it [00:01, 186.67it/s]\n",
            "256it [00:01, 187.30it/s]\n",
            "256it [00:01, 179.64it/s]\n",
            "256it [00:01, 191.22it/s]\n",
            "256it [00:01, 182.54it/s]\n",
            "256it [00:01, 180.93it/s]\n",
            "256it [00:01, 190.64it/s]\n",
            "256it [00:01, 224.20it/s]\n",
            "256it [00:01, 218.80it/s]\n",
            "256it [00:01, 214.85it/s]\n",
            "256it [00:01, 215.56it/s]\n",
            "256it [00:01, 227.84it/s]\n",
            "256it [00:01, 223.93it/s]\n",
            "256it [00:01, 226.05it/s]\n",
            "256it [00:01, 229.07it/s]\n",
            "256it [00:01, 224.07it/s]\n",
            "256it [00:01, 222.99it/s]\n",
            "256it [00:01, 214.83it/s]\n",
            "256it [00:01, 212.73it/s]\n",
            "256it [00:01, 229.34it/s]\n",
            "256it [00:01, 218.08it/s]\n",
            "256it [00:01, 225.91it/s]\n",
            "256it [00:01, 224.98it/s]\n",
            "256it [00:01, 227.97it/s]\n",
            "256it [00:01, 230.55it/s]\n",
            "256it [00:01, 215.21it/s]\n",
            "256it [00:01, 231.66it/s]\n",
            "256it [00:01, 228.73it/s]\n",
            "256it [00:01, 232.62it/s]\n",
            "256it [00:01, 218.25it/s]\n",
            "256it [00:01, 221.88it/s]\n",
            "256it [00:01, 210.57it/s]\n",
            "256it [00:01, 226.23it/s]\n",
            "256it [00:01, 229.08it/s]\n",
            "256it [00:01, 201.50it/s]\n",
            "256it [00:01, 213.05it/s]\n",
            "256it [00:01, 222.67it/s]\n",
            "256it [00:01, 221.17it/s]\n",
            "256it [00:01, 217.43it/s]\n",
            "256it [00:01, 214.17it/s]\n",
            "256it [00:01, 218.04it/s]\n",
            "256it [00:01, 230.53it/s]\n",
            "256it [00:01, 225.01it/s]\n",
            "256it [00:01, 209.46it/s]\n",
            "256it [00:01, 214.86it/s]\n",
            "256it [00:01, 215.46it/s]\n",
            "256it [00:01, 223.52it/s]\n",
            "256it [00:01, 222.71it/s]\n",
            "0it [00:00, ?it/s]"
          ],
          "name": "stderr"
        }
      ]
    },
    {
      "cell_type": "code",
      "metadata": {
        "id": "8mTBRiS6Ff-h"
      },
      "source": [
        "checkpoint.restore(tf.train.latest_checkpoint(checkpoint_dir))\n",
        "# Display a single image using the epoch number\n",
        "def display_image(epoch_no):\n",
        "  return PIL.Image.open('image_at_epoch_{:04d}.png'.format(epoch_no))\n",
        "  \n",
        "display_image(EPOCHS)\n"
      ],
      "execution_count": null,
      "outputs": []
    },
    {
      "cell_type": "code",
      "metadata": {
        "id": "YO3Bf4RTFgK4"
      },
      "source": [
        ""
      ],
      "execution_count": null,
      "outputs": []
    }
  ]
}